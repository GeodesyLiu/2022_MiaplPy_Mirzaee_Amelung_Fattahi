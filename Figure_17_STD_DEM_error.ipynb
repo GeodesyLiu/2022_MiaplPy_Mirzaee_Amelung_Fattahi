{
 "cells": [
  {
   "cell_type": "code",
   "execution_count": 3,
   "id": "73ffce95",
   "metadata": {},
   "outputs": [
    {
     "name": "stdout",
     "output_type": "stream",
     "text": [
      "The autoreload extension is already loaded. To reload it, use:\n",
      "  %reload_ext autoreload\n"
     ]
    }
   ],
   "source": [
    "%load_ext autoreload"
   ]
  },
  {
   "cell_type": "code",
   "execution_count": 6,
   "id": "479d0bf0",
   "metadata": {},
   "outputs": [],
   "source": [
    "%autoreload 2\n",
    "import os\n",
    "import numpy as np\n",
    "import matplotlib.pyplot as plt\n",
    "import matplotlib\n",
    "from mintpy.utils import readfile, utils as ut \n",
    "import h5py\n",
    "import datetime\n",
    "from mintpy.objects import timeseries\n",
    "from mintpy.utils import time_func, readfile, utils as ut\n",
    "from mintpy.dem_error import read_exclude_date, read_geometry\n",
    "from scipy import linalg\n",
    "from miaplpy.simulation import simulate_noise\n",
    "from miaplpy.lib.utils import est_corr_py\n",
    "from scipy.linalg import lapack as lap\n",
    "from miaplpy.dev.modified_dem_error import estimate_dem_err_std"
   ]
  },
  {
   "cell_type": "code",
   "execution_count": 7,
   "id": "0b0932be",
   "metadata": {},
   "outputs": [],
   "source": [
    "ts_file_s = '/Users/Sara/Library/CloudStorage/OneDrive-UniversityofMiami/Miami_final/with_dsm/timeseries.h5'\n",
    "geom_file_s = '/Users/Sara/Library/CloudStorage/OneDrive-UniversityofMiami/Miami_final/with_dsm/geometryRadar.h5'\n",
    "\n",
    "\n",
    "ts_file_t = '/Volumes/SaraMNew/scratch/minopy_subsets/1_PichinchaTsxDT004/timeseries.h5'\n",
    "geom_file_t = '/Volumes/SaraMNew/scratch/minopy_subsets/1_PichinchaTsxDT004/geometryRadar.h5'\n",
    "\n",
    "out_dir = './out_figures'\n"
   ]
  },
  {
   "cell_type": "code",
   "execution_count": 8,
   "id": "1c544d10",
   "metadata": {},
   "outputs": [
    {
     "name": "stdout",
     "output_type": "stream",
     "text": [
      "open timeseries file: timeseries.h5\n",
      "open geometry file: geometryRadar.h5\n",
      "read 2D incidenceAngle, slantRangeDistance from geometry file: geometryRadar.h5\n",
      "read mean bperp from timeseries file\n",
      "1145777.8 0.6934290422221457\n"
     ]
    }
   ],
   "source": [
    "# Sentinel\n",
    "\n",
    "ts_obj = timeseries(ts_file_s)\n",
    "date_list_s = ts_obj.get_date_list()\n",
    "metadata_s = ts_obj.get_metadata()\n",
    "ts_obj.open()\n",
    "length_s, width_s = ts_obj.length, ts_obj.width\n",
    "\n",
    "# get date info\n",
    "tbase_s = np.array(ts_obj.tbase, np.float32) #/ 365.25    \n",
    "num_date_s = ts_obj.numDate\n",
    "\n",
    "# 1.2 read geometry\n",
    "sin_inc_angle_s, range_dist_s, pbase_s = read_geometry(ts_file_s, geom_file_s, box=None)\n",
    "\n",
    "wavelength_s = np.float(metadata_s['radarWavelength'])\n",
    "\n",
    "inc_angle_s = np.deg2rad(np.float(metadata_s['CENTER_INCIDENCE_ANGLE']))\n",
    "heading_angle_s = np.deg2rad(np.float(metadata_s['HEADING']))\n",
    "\n",
    "range_dist_s = np.nanmean(range_dist_s)\n",
    "#sin_inc_angle_s = np.nanmean(sin_inc_angle_s)\n",
    "sin_inc_angle_s = np.sin(inc_angle_s)\n",
    "\n",
    "print(range_dist_s, sin_inc_angle_s)\n",
    "\n",
    "seconds_s = ts_obj.get_metadata().get('CENTER_LINE_UTC', 0)\n",
    "\n",
    "ex_date_list_s = []\n",
    "date_flag_s = np.array([i not in ex_date_list_s for i in date_list_s],\n",
    "                         dtype=np.bool_)\n"
   ]
  },
  {
   "cell_type": "code",
   "execution_count": 79,
   "id": "dbf5d242",
   "metadata": {},
   "outputs": [
    {
     "data": {
      "text/plain": [
       "11.328043295863225"
      ]
     },
     "execution_count": 79,
     "metadata": {},
     "output_type": "execute_result"
    }
   ],
   "source": [
    "sigma_noise"
   ]
  },
  {
   "cell_type": "code",
   "execution_count": 76,
   "id": "36413075",
   "metadata": {},
   "outputs": [],
   "source": [
    "phase2range = wavelength_s/(4*np.pi)\n",
    "\n",
    "build_height=60\n",
    "rep = 100\n",
    "sigma_noise = 0.05 / phase2range # 0.7\n",
    "G_geom_s = pbase_s / (range_dist_s * sin_inc_angle_s)\n",
    "\n",
    "# prepare temporal deformation model\n",
    "model = dict()\n",
    "model['polynomial'] = 1\n",
    "model['step'] = []\n",
    "model['periodic'] = []\n",
    "\n",
    "\n",
    "G_defo_s = time_func.get_design_matrix4time_func(date_list_s, model, seconds=seconds_s)\n",
    "G_s = np.hstack((G_geom_s, G_defo_s))\n",
    "#G_s = G_geom_s\n",
    "\n",
    "recons_phi_topo_s = (4*np.pi/wavelength_s)*pbase_s*build_height/(sin_inc_angle_s*range_dist_s)\n",
    "noise_s = np.random.randn(len(recons_phi_topo_s), 1)*sigma_noise\n",
    "simulated_vector_s = (recons_phi_topo_s + noise_s)*phase2range\n",
    "\n",
    "deltaz_s = []\n",
    "dem_err_std_s = []\n",
    "\n",
    "\n",
    "#ts_sigma = noise\n",
    "ts_data_std_s = (noise_s*phase2range) \n",
    "\n",
    "w_s = 1/ts_data_std_s\n",
    "\n",
    "\n",
    "nums = np.arange(5, 130)  #number of images\n",
    "\n",
    "\n",
    "for t in range(rep):\n",
    "    \n",
    "    noise_s = np.random.randn(len(recons_phi_topo_s), 1)*sigma_noise\n",
    "    simulated_vector_s = (recons_phi_topo_s + noise_s)*phase2range\n",
    "    ts_data_std_s = (noise_s*phase2range) \n",
    "    w_s = 1/ts_data_std_s\n",
    "    \n",
    "    X_ss = np.zeros((1,len(nums)))\n",
    "    std_s = np.zeros((1,len(nums)))\n",
    "    \n",
    "    for ii, nn in enumerate(nums):\n",
    "        #print('Inverting ...')\n",
    "        X_s, e2 = linalg.lstsq(np.multiply(G_s[0:nn,:], w_s[0:nn,:]), \n",
    "                           np.multiply(simulated_vector_s[0:nn,:].reshape(-1,1), w_s[0:nn,:]), \n",
    "                           cond=1e-15)[0:2]\n",
    "        X_ss[0,ii] = X_s[0]\n",
    "        #num_date = nn\n",
    "        #num_param = len(X_s)\n",
    "        #G_inv = linalg.inv(np.dot(G_s[0:nn,:].T, G_s[0:nn,:]))\n",
    "        #m_var = e2.reshape(1, -1) / (num_date - num_param)\n",
    "        #dem_err_std_is = np.sqrt(np.dot(np.diag(G_inv).reshape(-1, 1), m_var))[0]\n",
    "        \n",
    "        dem_err_std_is = estimate_dem_err_std(G_s[0:nn,:],\n",
    "                                          y=simulated_vector_s[0:nn,:],\n",
    "                                          y_std=ts_data_std_s[0:nn,:],\n",
    "                                          min_redundancy=1.0)[0]\n",
    "        \n",
    "      \n",
    "        std_s[0, ii] = dem_err_std_is\n",
    "        \n",
    "        \n",
    "        \n",
    "    deltaz_s.append(X_ss) \n",
    "    dem_err_std_s.append(np.sqrt(std_s))\n",
    "        "
   ]
  },
  {
   "cell_type": "code",
   "execution_count": 77,
   "id": "5f66bdf1",
   "metadata": {},
   "outputs": [
    {
     "data": {
      "image/png": "[encoded data removed]",
      "text/plain": [
       "<Figure size 432x288 with 2 Axes>"
      ]
     },
     "metadata": {
      "needs_background": "light"
     },
     "output_type": "display_data"
    }
   ],
   "source": [
    "plt.rcParams[\"font.size\"] = \"15\"\n",
    "\n",
    "inc_angle_s = np.deg2rad(np.float(metadata_s['CENTER_INCIDENCE_ANGLE']))\n",
    "heading_angle_s = np.deg2rad(np.float(metadata_s['HEADING']))\n",
    "\n",
    "dz = np.mean(np.array(dem_err_std_s), axis=0).flatten()\n",
    "dx = dz * (1 / np.tan(inc_angle_s)) * np.cos(heading_angle_s)\n",
    "dy = dz * (1 / np.tan(inc_angle_s)) * np.sin(heading_angle_s)\n",
    "\n",
    "dr = np.sqrt(dx**2 + dy**2)\n",
    "#dr = np.mean((np.array(dr)), axis=0).flatten()\n",
    "\n",
    "fig, ax1 = plt.subplots()\n",
    "ax2 = ax1.twinx()\n",
    "#ax1.plot(nums, np.sqrt(np.mean((np.array(deltaz_s)-build_height)**2, axis=0)).flatten(), 'blue', linewidth=2.0)\n",
    "\n",
    "ax1.plot(nums, np.mean(np.array(dem_err_std_s), axis=0).flatten(), 'blue', linewidth=2.0)\n",
    "\n",
    "\n",
    "ax1.set_ylabel('STD (m)', color='black')\n",
    "ax1.tick_params(axis='y', labelcolor='black')\n",
    "\n",
    "ax1.set_xlabel('Number of images')\n",
    "ax2.set_ylim(np.min(dr), np.max(dr))\n",
    "\n",
    "ax1.yaxis.get_ticklocs(minor=True)     # []\n",
    "ax1.minorticks_on()\n",
    "\n",
    "ax2.yaxis.get_ticklocs(minor=True)     # []\n",
    "ax2.minorticks_on()\n",
    "ax2.tick_params(axis='y', labelcolor='black')\n",
    "ax2.set_ylabel('Horizontal dislocation (m)', color='black')\n",
    "\n",
    "plt.savefig(out_dir +'/RMS_DEM_error.png', bbox_inches='tight', dpi=300) \n"
   ]
  },
  {
   "cell_type": "code",
   "execution_count": null,
   "id": "89aff1dd",
   "metadata": {},
   "outputs": [],
   "source": []
  }
 ],
 "metadata": {
  "kernelspec": {
   "display_name": "Python 3",
   "language": "python",
   "name": "python3"
  },
  "language_info": {
   "codemirror_mode": {
    "name": "ipython",
    "version": 3
   },
   "file_extension": ".py",
   "mimetype": "text/x-python",
   "name": "python",
   "nbconvert_exporter": "python",
   "pygments_lexer": "ipython3",
   "version": "3.8.13"
  }
 },
 "nbformat": 4,
 "nbformat_minor": 5
}
