{
 "cells": [
  {
   "cell_type": "code",
   "execution_count": 1,
   "id": "73ffce95",
   "metadata": {},
   "outputs": [],
   "source": [
    "%load_ext autoreload"
   ]
  },
  {
   "cell_type": "code",
   "execution_count": 2,
   "id": "479d0bf0",
   "metadata": {},
   "outputs": [],
   "source": [
    "%autoreload 2\n",
    "import os\n",
    "import numpy as np\n",
    "import matplotlib.pyplot as plt\n",
    "import matplotlib\n",
    "from mintpy.utils import readfile, utils as ut \n",
    "import h5py\n",
    "import datetime\n",
    "from mintpy.objects import timeseries\n",
    "from mintpy.utils import time_func, readfile, utils as ut\n",
    "from mintpy.dem_error import read_exclude_date, read_geometry\n",
    "from scipy import linalg\n",
    "from miaplpy.simulation import simulate_noise\n",
    "from miaplpy.lib.utils import est_corr_py\n",
    "from scipy.linalg import lapack as lap\n",
    "#from miaplpy.dev.modified_dem_error import estimate_dem_err_std"
   ]
  },
  {
   "cell_type": "code",
   "execution_count": null,
   "id": "3a7cc58b",
   "metadata": {},
   "outputs": [],
   "source": []
  },
  {
   "cell_type": "code",
   "execution_count": 3,
   "id": "0b0932be",
   "metadata": {},
   "outputs": [],
   "source": [
    "project_dir = './Miami_data_Sentinel'\n",
    "if not os.path.exists(project_dir):\n",
    "    !wget https://zenodo.org/record/7388734/files/Miami_data_Sentinel.tar.xz\n",
    "    !tar -xvJf Miami_data_Sentinel.tar.xz\n",
    "    \n",
    "ts_file_s = project_dir + '/timeseries.h5'\n",
    "geom_file_s = project_dir + '/inputs/geometryRadar.h5'\n",
    "\n",
    "out_dir = './out_figures'\n"
   ]
  },
  {
   "cell_type": "code",
   "execution_count": 4,
   "id": "1c544d10",
   "metadata": {},
   "outputs": [
    {
     "name": "stdout",
     "output_type": "stream",
     "text": [
      "open timeseries file: timeseries.h5\n",
      "open geometry file: geometryRadar.h5\n",
      "read 2D incidenceAngle, slantRangeDistance from geometry file: geometryRadar.h5\n",
      "read mean bperp from timeseries file\n",
      "1155956.1 0.6939990750748459\n"
     ]
    }
   ],
   "source": [
    "# Sentinel\n",
    "\n",
    "ts_obj = timeseries(ts_file_s)\n",
    "date_list_s = ts_obj.get_date_list()\n",
    "metadata_s = ts_obj.get_metadata()\n",
    "ts_obj.open()\n",
    "length_s, width_s = ts_obj.length, ts_obj.width\n",
    "\n",
    "# get date info\n",
    "tbase_s = np.array(ts_obj.tbase, np.float32) #/ 365.25    \n",
    "num_date_s = ts_obj.numDate\n",
    "\n",
    "# 1.2 read geometry\n",
    "sin_inc_angle_s, range_dist_s, pbase_s = read_geometry(ts_file_s, geom_file_s, box=None)\n",
    "\n",
    "wavelength_s = np.float(metadata_s['radarWavelength'])\n",
    "\n",
    "inc_angle_s = np.deg2rad(np.float(metadata_s['CENTER_INCIDENCE_ANGLE']))\n",
    "heading_angle_s = np.deg2rad(np.float(metadata_s['HEADING']))\n",
    "\n",
    "range_dist_s = np.nanmean(range_dist_s)\n",
    "#sin_inc_angle_s = np.nanmean(sin_inc_angle_s)\n",
    "sin_inc_angle_s = np.sin(inc_angle_s)\n",
    "\n",
    "print(range_dist_s, sin_inc_angle_s)\n",
    "\n",
    "seconds_s = ts_obj.get_metadata().get('CENTER_LINE_UTC', 0)\n",
    "\n",
    "ex_date_list_s = []\n",
    "date_flag_s = np.array([i not in ex_date_list_s for i in date_list_s],\n",
    "                         dtype=np.bool_)\n"
   ]
  },
  {
   "cell_type": "code",
   "execution_count": 5,
   "id": "730aa39a",
   "metadata": {},
   "outputs": [
    {
     "data": {
      "text/plain": [
       "4.5312173183452895"
      ]
     },
     "execution_count": 5,
     "metadata": {},
     "output_type": "execute_result"
    }
   ],
   "source": [
    "phase2range = wavelength_s/(4*np.pi)\n",
    "\n",
    "build_height=60\n",
    "rep = 100\n",
    "sigma_noise = 0.02 / phase2range # 0.7\n",
    "sigma_noise"
   ]
  },
  {
   "cell_type": "code",
   "execution_count": null,
   "id": "3023c406",
   "metadata": {},
   "outputs": [],
   "source": []
  },
  {
   "cell_type": "code",
   "execution_count": 6,
   "id": "36413075",
   "metadata": {},
   "outputs": [],
   "source": [
    "phase2range = wavelength_s/(4*np.pi)\n",
    "\n",
    "build_height=60\n",
    "rep = 100\n",
    "sigma_noise = 0.02 / phase2range # 0.7\n",
    "G_geom_s = pbase_s / (range_dist_s * sin_inc_angle_s)\n",
    "\n",
    "# prepare temporal deformation model\n",
    "model = dict()\n",
    "model['polynomial'] = 1\n",
    "model['step'] = []\n",
    "model['periodic'] = []\n",
    "\n",
    "\n",
    "G_defo_s = time_func.get_design_matrix4time_func(date_list_s, model, seconds=seconds_s)\n",
    "G_s = np.hstack((G_geom_s, G_defo_s))\n",
    "\n",
    "\n",
    "recons_phi_topo_s = (4*np.pi/wavelength_s)*pbase_s*build_height/(sin_inc_angle_s*range_dist_s)\n",
    "noise_s = np.random.randn(len(recons_phi_topo_s), 1)*sigma_noise\n",
    "simulated_vector_s = (recons_phi_topo_s + noise_s)*phase2range\n",
    "\n",
    "tbase_diff = np.diff(tbase_s, axis=0).reshape(-1, 1)\n",
    "simulated_vector_s = np.diff(simulated_vector_s, axis=0) / np.repeat(tbase_diff, simulated_vector_s.shape[1], axis=1)\n",
    "G_s= np.diff(G_s, axis=0) / np.repeat(tbase_diff, G_s.shape[1], axis=1)\n",
    "\n",
    "\n",
    "deltaz_s = []\n",
    "dem_err_std_s = []\n",
    "\n",
    "\n",
    "nums = np.arange(5, 130)  #number of images\n",
    "\n",
    "\n",
    "for t in range(rep):\n",
    "    \n",
    "    X_ss = np.zeros((1,len(nums)))\n",
    "    std_s = np.zeros((1,len(nums)))\n",
    "    \n",
    "    for ii, nn in enumerate(nums):\n",
    "        X_s, e2 = linalg.lstsq(G_s[0:nn,:], simulated_vector_s[0:nn, :], cond=1e-15)[0:2]\n",
    "        X_ss[0,ii] = X_s[0]\n",
    "        \n",
    "        num_param = X_s.shape[0]\n",
    "        G_inv = linalg.inv(np.dot(G_s[0:nn,:].T, G_s[0:nn, :]))\n",
    "        m_var = e2.reshape(1, -1) / (nn - num_param)\n",
    "        dem_err_std_is = np.sqrt(np.dot(np.diag(G_inv).reshape(-1, 1), m_var))[0]\n",
    "      \n",
    "        std_s[0, ii] = dem_err_std_is\n",
    "        \n",
    "        \n",
    "        \n",
    "    deltaz_s.append(X_ss) \n",
    "    dem_err_std_s.append(np.sqrt(std_s))\n",
    "        "
   ]
  },
  {
   "cell_type": "code",
   "execution_count": null,
   "id": "d173b0ad",
   "metadata": {},
   "outputs": [],
   "source": []
  },
  {
   "cell_type": "code",
   "execution_count": 7,
   "id": "4f98b629",
   "metadata": {},
   "outputs": [
    {
     "data": {
      "text/plain": [
       "Text(0, 0.5, 'Horizontal dislocation (m)')"
      ]
     },
     "execution_count": 7,
     "metadata": {},
     "output_type": "execute_result"
    },
    {
     "data": {
      "image/png": "[encoded data removed]",
      "text/plain": [
       "<Figure size 640x480 with 2 Axes>"
      ]
     },
     "metadata": {},
     "output_type": "display_data"
    }
   ],
   "source": [
    "plt.rcParams[\"font.size\"] = \"15\"\n",
    "\n",
    "inc_angle_s = np.deg2rad(np.float(metadata_s['CENTER_INCIDENCE_ANGLE']))\n",
    "heading_angle_s = np.deg2rad(np.float(metadata_s['HEADING']))\n",
    "\n",
    "dz = np.mean(np.array(dem_err_std_s), axis=0).flatten()\n",
    "dx = dz * (1 / np.tan(inc_angle_s)) * np.cos(heading_angle_s)\n",
    "dy = dz * (1 / np.tan(inc_angle_s)) * np.sin(heading_angle_s)\n",
    "\n",
    "dr = np.sqrt(dx**2 + dy**2)\n",
    "#dr = np.mean((np.array(dr)), axis=0).flatten()\n",
    "\n",
    "fig, ax1 = plt.subplots()\n",
    "ax2 = ax1.twinx()\n",
    "#ax1.plot(nums, np.sqrt(np.mean((np.array(deltaz_s)-build_height)**2, axis=0)).flatten(), 'blue', linewidth=2.0)\n",
    "\n",
    "ax1.plot(nums, np.mean(np.array(dem_err_std_s), axis=0).flatten(), 'blue', linewidth=2.0)\n",
    "\n",
    "\n",
    "ax1.set_ylabel('STD (m)', color='black')\n",
    "ax1.tick_params(axis='y', labelcolor='black')\n",
    "\n",
    "ax1.set_xlabel('Number of images')\n",
    "ax2.set_ylim(np.min(dr), np.max(dr))\n",
    "\n",
    "ax1.yaxis.get_ticklocs(minor=True)     # []\n",
    "ax1.minorticks_on()\n",
    "\n",
    "ax2.yaxis.get_ticklocs(minor=True)     # []\n",
    "ax2.minorticks_on()\n",
    "ax2.tick_params(axis='y', labelcolor='black')\n",
    "ax2.set_ylabel('Horizontal dislocation (m)', color='black')\n",
    "\n",
    "#plt.savefig(out_dir +'/RMS_DEM_error.png', bbox_inches='tight', dpi=300) \n"
   ]
  },
  {
   "cell_type": "code",
   "execution_count": null,
   "id": "0a43fc81",
   "metadata": {},
   "outputs": [],
   "source": []
  }
 ],
 "metadata": {
  "kernelspec": {
   "display_name": "Python 3 (ipykernel)",
   "language": "python",
   "name": "python3"
  },
  "language_info": {
   "codemirror_mode": {
    "name": "ipython",
    "version": 3
   },
   "file_extension": ".py",
   "mimetype": "text/x-python",
   "name": "python",
   "nbconvert_exporter": "python",
   "pygments_lexer": "ipython3",
   "version": "3.9.13"
  }
 },
 "nbformat": 4,
 "nbformat_minor": 5
}
