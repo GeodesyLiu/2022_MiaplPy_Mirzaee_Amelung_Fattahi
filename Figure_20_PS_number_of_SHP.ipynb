{
 "cells": [
  {
   "cell_type": "code",
   "execution_count": 1,
   "id": "6dee22db",
   "metadata": {},
   "outputs": [],
   "source": [
    "%load_ext autoreload"
   ]
  },
  {
   "cell_type": "code",
   "execution_count": 2,
   "id": "444f281d",
   "metadata": {},
   "outputs": [],
   "source": [
    "%autoreload 2\n",
    "import os\n",
    "import numpy as np\n",
    "import matplotlib.pyplot as plt\n",
    "import matplotlib\n",
    "import mintpy\n",
    "from osgeo import gdal\n",
    "from mintpy.utils import plot as pp\n",
    "from mintpy.utils import readfile, utils as ut \n",
    "import h5py\n",
    "import cartopy.crs as ccrs\n",
    "from cartopy.mpl.ticker import LongitudeFormatter, LatitudeFormatter\n",
    "from mintpy import view\n",
    "from mintpy.objects import timeseries\n",
    "from operator import itemgetter \n",
    "import datetime\n",
    "from datetime import timedelta\n",
    "from scipy import interpolate\n",
    "import matplotlib.dates as mdates\n",
    "from miaplpy.objects.invert_pixel import process_pixel \n",
    "from scipy import stats\n",
    "import matplotlib.ticker as mticker\n",
    "from cartopy.mpl.gridliner import LONGITUDE_FORMATTER, LATITUDE_FORMATTER\n",
    "font = {'family' : 'DejaVu Sans',\n",
    "        'size'   : 15}"
   ]
  },
  {
   "cell_type": "code",
   "execution_count": 36,
   "id": "a7f00216",
   "metadata": {},
   "outputs": [],
   "source": [
    "project_dir = './../DATA/Miami_data'\n",
    "out_dir = './out_figures'\n",
    "\n",
    "ph_file = project_dir + '/phase_series.h5'\n",
    "\n",
    "shp = readfile.read(ph_file, datasetName='shp')[0]\n",
    "tempCoh = readfile.read(ph_file, datasetName='temporalCoherence')[0][0,:,:]\n",
    "shp_ps = shp[tempCoh>0.98]"
   ]
  },
  {
   "cell_type": "code",
   "execution_count": 16,
   "id": "77c632e9",
   "metadata": {},
   "outputs": [],
   "source": []
  },
  {
   "cell_type": "code",
   "execution_count": 42,
   "id": "9a0f254f",
   "metadata": {},
   "outputs": [
    {
     "data": {
      "image/png": "[encoded data removed]",
      "text/plain": [
       "<Figure size 432x360 with 1 Axes>"
      ]
     },
     "metadata": {
      "needs_background": "light"
     },
     "output_type": "display_data"
    }
   ],
   "source": [
    "plt.rcParams[\"font.size\"] = \"18\"\n",
    "\n",
    "fig, axs = plt.subplots(nrows=1, ncols=1, figsize=(6,5))\n",
    "axs.hist(shp_ps, 90)\n",
    "axs.set_xlim([0,18])\n",
    "axs.set_xticks([0,5,10,15])\n",
    "axs.set_xlabel('Number of self-similar neighbors')\n",
    "axs.set_ylabel('Occurances')\n",
    "\n",
    "plt.savefig(out_dir + '/ps_shp_num.png', bbox_inches='tight', transparent=True, dpi=300)\n"
   ]
  },
  {
   "cell_type": "code",
   "execution_count": null,
   "id": "76b98593",
   "metadata": {},
   "outputs": [],
   "source": []
  }
 ],
 "metadata": {
  "kernelspec": {
   "display_name": "Python 3",
   "language": "python",
   "name": "python3"
  },
  "language_info": {
   "codemirror_mode": {
    "name": "ipython",
    "version": 3
   },
   "file_extension": ".py",
   "mimetype": "text/x-python",
   "name": "python",
   "nbconvert_exporter": "python",
   "pygments_lexer": "ipython3",
   "version": "3.8.13"
  }
 },
 "nbformat": 4,
 "nbformat_minor": 5
}
